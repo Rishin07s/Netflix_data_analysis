{
  "cells": [
    {
      "cell_type": "markdown",
      "metadata": {
        "id": "nUviUOEf9G8B"
      },
      "source": [
        "## Netflix Dataset"
      ]
    },
    {
      "cell_type": "markdown",
      "metadata": {
        "id": "XtBP-9Pv9G8E"
      },
      "source": [
        "### Big-Data Analysis with Python"
      ]
    },
    {
      "cell_type": "markdown",
      "metadata": {
        "id": "sT3jgqpY9G8E"
      },
      "source": [
        "![1.png](attachment:1.png)"
      ]
    },
    {
      "cell_type": "markdown",
      "metadata": {
        "id": "mUm9ueb89G8E"
      },
      "source": [
        "This Netflix Dataset has information about the TV Shows and Movies available on Netflix till 2021.\n",
        "\n",
        "This dataset is collected from Flixable which is a third-party Netflix search engine, and available on Kaggle website for free."
      ]
    },
    {
      "cell_type": "markdown",
      "metadata": {
        "id": "2YVuB-PD9G8F"
      },
      "source": [
        "-------"
      ]
    },
    {
      "cell_type": "code",
      "execution_count": null,
      "metadata": {
        "id": "IWrvvzmW9G8F"
      },
      "outputs": [],
      "source": [
        "# Importing the dataset\n",
        "import pandas as pd\n",
        "data = pd.read_csv(r\"C:\\Users\\ROHIT GREWAL\\Desktop\\DSL\\Videos\\Data-Sets\\8. Netflix Dataset.csv\")                     # to import pandas library"
      ]
    },
    {
      "cell_type": "code",
      "execution_count": null,
      "metadata": {
        "id": "nuVNZT-S9G8G",
        "outputId": "e81d93db-e9dd-4fa7-c1ba-ddf208890a9e"
      },
      "outputs": [],
      "source": [
        "data"
      ]
    },
    {
      "cell_type": "code",
      "execution_count": null,
      "metadata": {
        "id": "mPRuwqvF9G8H"
      },
      "outputs": [],
      "source": []
    },
    {
      "cell_type": "markdown",
      "metadata": {
        "id": "AUKpl5SM9G8I"
      },
      "source": [
        "#### Getting some basic information about the dataset"
      ]
    },
    {
      "cell_type": "markdown",
      "metadata": {
        "id": "CbXLdjmQ9G8I"
      },
      "source": [
        "### 1. head()"
      ]
    },
    {
      "cell_type": "code",
      "execution_count": null,
      "metadata": {
        "id": "76Rmu7U_9G8I",
        "outputId": "5a37d5cb-d840-4afc-b44d-6cb59258e57f",
        "scrolled": true
      },
      "outputs": [],
      "source": [
        "data.head()                                     # to show top-5 records of the dataset"
      ]
    },
    {
      "cell_type": "code",
      "execution_count": null,
      "metadata": {},
      "outputs": [],
      "source": []
    },
    {
      "cell_type": "markdown",
      "metadata": {
        "id": "EOAk6JPQ9G8I"
      },
      "source": [
        "### 2. tail()"
      ]
    },
    {
      "cell_type": "code",
      "execution_count": null,
      "metadata": {
        "id": "G8gI6eSx9G8I",
        "outputId": "16bc92aa-3717-4b1a-bd9c-ab93e757478b"
      },
      "outputs": [],
      "source": [
        "data.tail()                                      # to show bottom-5 records of dataset"
      ]
    },
    {
      "cell_type": "markdown",
      "metadata": {
        "id": "tYEfhSAA9G8J"
      },
      "source": [
        "### 3. shape"
      ]
    },
    {
      "cell_type": "code",
      "execution_count": null,
      "metadata": {
        "id": "KpKL5YrU9G8J",
        "outputId": "aa8536b3-430a-4e36-c2b7-2dec7c7d85e6"
      },
      "outputs": [],
      "source": [
        "data.shape                                      # to show the No. of Rows and Columns"
      ]
    },
    {
      "cell_type": "markdown",
      "metadata": {
        "id": "g5SL8NCw9G8J"
      },
      "source": [
        "### 4. size"
      ]
    },
    {
      "cell_type": "code",
      "execution_count": null,
      "metadata": {
        "id": "WDKmogIG9G8J",
        "outputId": "fe74c7af-642f-4f83-ca3c-a27d5689e20f"
      },
      "outputs": [],
      "source": [
        "data.size                                      # to show No. of total values(elements) in the dataset"
      ]
    },
    {
      "cell_type": "markdown",
      "metadata": {
        "id": "_br-SYLk9G8J"
      },
      "source": [
        "### 5. columns"
      ]
    },
    {
      "cell_type": "code",
      "execution_count": null,
      "metadata": {
        "id": "AEPkA6at9G8J",
        "outputId": "9cd5a033-5af1-4030-84ef-0dbc976acacf",
        "scrolled": true
      },
      "outputs": [],
      "source": [
        "data.columns                                   # to show each Column Name"
      ]
    },
    {
      "cell_type": "markdown",
      "metadata": {
        "id": "FLC03MDm9G8K"
      },
      "source": [
        "### 7. dtypes"
      ]
    },
    {
      "cell_type": "code",
      "execution_count": null,
      "metadata": {
        "id": "4vKtF0LI9G8K",
        "outputId": "c1f5af1d-8edd-49b0-8b57-ddadca81a382"
      },
      "outputs": [],
      "source": [
        "data.dtypes                                    # to show the data-type of each column"
      ]
    },
    {
      "cell_type": "markdown",
      "metadata": {
        "id": "4zgUCuTm9G8K"
      },
      "source": [
        "### 8. info()"
      ]
    },
    {
      "cell_type": "code",
      "execution_count": null,
      "metadata": {
        "id": "kktIpNAp9G8K",
        "outputId": "4b6d3e4d-32c1-4163-ddee-44eacb227864"
      },
      "outputs": [],
      "source": [
        "data.info()                                   # To show indexes, columns, data-types of each column, memory at once"
      ]
    },
    {
      "cell_type": "markdown",
      "metadata": {
        "id": "htXi55_P9G8K"
      },
      "source": [
        "----"
      ]
    },
    {
      "cell_type": "markdown",
      "metadata": {
        "id": "-Zw7yY3z9G8L"
      },
      "source": [
        "### Task.1. Is there any Duplicate Record in this dataset ? If yes, then remove the duplicate records."
      ]
    },
    {
      "cell_type": "markdown",
      "metadata": {
        "id": "TLTD8xTH9G8L"
      },
      "source": [
        "### duplicate()"
      ]
    },
    {
      "cell_type": "code",
      "execution_count": null,
      "metadata": {
        "id": "WQAUe-sK9G8L",
        "outputId": "f6dc3ea7-9a3f-4211-f100-fb117addf1e3"
      },
      "outputs": [],
      "source": [
        "data.head()"
      ]
    },
    {
      "cell_type": "code",
      "execution_count": null,
      "metadata": {
        "id": "SMOwc0Pp9G8L",
        "outputId": "4fb30611-e5ba-4fd9-d7f1-c66a142b6125"
      },
      "outputs": [],
      "source": [
        "data.shape"
      ]
    },
    {
      "cell_type": "code",
      "execution_count": null,
      "metadata": {
        "id": "INk8Umj09G8L",
        "outputId": "df67852d-9660-45b8-9b03-7640a727f682"
      },
      "outputs": [],
      "source": [
        "data[data.duplicated()]                                         # To check row wise and detect the Duplicate rows"
      ]
    },
    {
      "cell_type": "code",
      "execution_count": null,
      "metadata": {
        "id": "9QhVmefs9G8L"
      },
      "outputs": [],
      "source": [
        "data.drop_duplicates(inplace = True)                                # To Remove the Duplicate rows permanently"
      ]
    },
    {
      "cell_type": "code",
      "execution_count": null,
      "metadata": {
        "id": "ZgQlOzSd9G8M",
        "outputId": "4fd3dcb8-eb75-4ce0-d0c6-5b95dd85ee9f"
      },
      "outputs": [],
      "source": [
        "data[data.duplicated()]"
      ]
    },
    {
      "cell_type": "code",
      "execution_count": null,
      "metadata": {
        "id": "wD5BnMHi9G8M",
        "outputId": "50d6e625-2042-455c-b40e-de4cd5a5df41"
      },
      "outputs": [],
      "source": [
        "data.shape"
      ]
    },
    {
      "cell_type": "markdown",
      "metadata": {
        "id": "bgPoKt479G8M"
      },
      "source": [
        "----"
      ]
    },
    {
      "cell_type": "markdown",
      "metadata": {
        "id": "x8yl5l599G8M"
      },
      "source": [
        "### Task.2. Is there any Null Value present in any column ? Show with Heat-map."
      ]
    },
    {
      "cell_type": "markdown",
      "metadata": {
        "id": "b88gV1cV9G8M"
      },
      "source": [
        "### isnull()"
      ]
    },
    {
      "cell_type": "code",
      "execution_count": null,
      "metadata": {
        "id": "9WpvOXhx9G8M",
        "outputId": "bf18a8b6-8338-4f68-f514-55b95212916c"
      },
      "outputs": [],
      "source": [
        "data.head()"
      ]
    },
    {
      "cell_type": "code",
      "execution_count": null,
      "metadata": {
        "id": "Y_dPAjr29G8N",
        "outputId": "8364280b-863c-4d17-8612-4bbbad1cd064"
      },
      "outputs": [],
      "source": [
        "data.isnull()                                               # To show where Null value is present"
      ]
    },
    {
      "cell_type": "code",
      "execution_count": null,
      "metadata": {
        "id": "I_dAjtYw9G8N",
        "outputId": "22980e35-43ce-4a82-db2d-9fb0d60663da"
      },
      "outputs": [],
      "source": [
        "data.isnull().sum()                                               # To show the count of Null values in each column"
      ]
    },
    {
      "cell_type": "markdown",
      "metadata": {
        "id": "2nDah11f9G8N"
      },
      "source": [
        "### seaborn library (heat-map)"
      ]
    },
    {
      "cell_type": "code",
      "execution_count": null,
      "metadata": {
        "id": "ef8xh3GI9G8Q"
      },
      "outputs": [],
      "source": [
        "import seaborn as sns                                               # To import Seaborn library"
      ]
    },
    {
      "cell_type": "code",
      "execution_count": null,
      "metadata": {
        "id": "dZ_DtU_59G8R",
        "outputId": "74e46195-d2f5-4cf4-9532-e4439b5bafa6",
        "scrolled": false
      },
      "outputs": [],
      "source": [
        "sns.heatmap(data.isnull())                                               # Using heat-map to show null values count"
      ]
    },
    {
      "cell_type": "markdown",
      "metadata": {
        "id": "7qMgeLPz9G8R"
      },
      "source": [
        "----"
      ]
    },
    {
      "cell_type": "markdown",
      "metadata": {
        "id": "pCqx-p4K9G8R"
      },
      "source": [
        "----"
      ]
    },
    {
      "cell_type": "markdown",
      "metadata": {
        "id": "_jLXy3R09G8R"
      },
      "source": [
        "### Q.1. For 'House of Cards', what is the Show Id and Who is the Director of this show ?"
      ]
    },
    {
      "cell_type": "markdown",
      "metadata": {
        "id": "PPkAwIIU9G8R"
      },
      "source": [
        "### isin()"
      ]
    },
    {
      "cell_type": "code",
      "execution_count": null,
      "metadata": {
        "id": "4RdBupwP9G8R",
        "outputId": "d20bedad-51fd-4194-e42b-8f6cd0d80aa8"
      },
      "outputs": [],
      "source": [
        "data.head()"
      ]
    },
    {
      "cell_type": "code",
      "execution_count": null,
      "metadata": {
        "id": "XqUXTbT19G8R",
        "outputId": "8dffe810-8670-4258-d3dc-f8656cef662e",
        "scrolled": false
      },
      "outputs": [],
      "source": [
        "data[data['Title'].isin(['House of Cards'])]       #  To show all records of a particular item in any column"
      ]
    },
    {
      "cell_type": "markdown",
      "metadata": {
        "id": "L2L0pb6U9G8R"
      },
      "source": [
        "### str.contains()"
      ]
    },
    {
      "cell_type": "code",
      "execution_count": null,
      "metadata": {
        "id": "0ngYvlrV9G8S",
        "outputId": "274b72cc-651d-4166-9a30-81cf431da059",
        "scrolled": false
      },
      "outputs": [],
      "source": [
        "data[data['Title'].str.contains('House of Cards')]          #  To show all records of a particular string in any column"
      ]
    },
    {
      "cell_type": "markdown",
      "metadata": {
        "id": "ObCiBdYK9G8S"
      },
      "source": [
        "----"
      ]
    },
    {
      "cell_type": "markdown",
      "metadata": {
        "id": "lTgVSzd-9G8S"
      },
      "source": [
        "### Q.2. In which year highest number of the TV Shows & Movies were released ? Show with Bar Graph."
      ]
    },
    {
      "cell_type": "markdown",
      "metadata": {
        "id": "BB-61xVk9G8S"
      },
      "source": [
        "### dtypes"
      ]
    },
    {
      "cell_type": "code",
      "execution_count": null,
      "metadata": {
        "id": "GbTb1Z3B9G8S",
        "outputId": "1b2e9372-3dd8-48de-c138-35a10c44e60c",
        "scrolled": true
      },
      "outputs": [],
      "source": [
        "data.dtypes"
      ]
    },
    {
      "cell_type": "markdown",
      "metadata": {
        "id": "rEuWJ_nO9G8S"
      },
      "source": [
        "### to_datetime"
      ]
    },
    {
      "cell_type": "code",
      "execution_count": null,
      "metadata": {
        "id": "KpcpOn0U9G8S"
      },
      "outputs": [],
      "source": [
        "data['Date_N'] = pd.to_datetime(data['Release_Date'])"
      ]
    },
    {
      "cell_type": "code",
      "execution_count": null,
      "metadata": {
        "id": "Q3jj1igJ9G8S",
        "outputId": "f3408927-23d9-40c1-9854-ea6bfb2b2d4f"
      },
      "outputs": [],
      "source": [
        "data.head()"
      ]
    },
    {
      "cell_type": "code",
      "execution_count": null,
      "metadata": {
        "id": "iZ-9cG0w9G8S",
        "outputId": "f36da513-dbc8-49cf-e1cb-13508842edf6"
      },
      "outputs": [],
      "source": [
        "data.dtypes"
      ]
    },
    {
      "cell_type": "code",
      "execution_count": null,
      "metadata": {
        "id": "IkuHvz6c9G8T"
      },
      "outputs": [],
      "source": []
    },
    {
      "cell_type": "markdown",
      "metadata": {
        "id": "DgCja0TX9G8T"
      },
      "source": [
        "### dt.year.value_counts()"
      ]
    },
    {
      "cell_type": "code",
      "execution_count": null,
      "metadata": {
        "id": "4tDdQo-y9G8T",
        "outputId": "067204ca-6be1-4b98-ccdc-8602a42efcb1"
      },
      "outputs": [],
      "source": [
        "data['Date_N'].dt.year.value_counts()                # It counts the occurrence of all individual Years in Date column."
      ]
    },
    {
      "cell_type": "markdown",
      "metadata": {
        "id": "S289gQD59G8T"
      },
      "source": [
        "### Bar Graph"
      ]
    },
    {
      "cell_type": "code",
      "execution_count": null,
      "metadata": {
        "id": "5IuTPOrW9G8T",
        "outputId": "b001cd7d-a616-4337-d909-a865a61bf524",
        "scrolled": true
      },
      "outputs": [],
      "source": [
        "data['Date_N'].dt.year.value_counts().plot(kind='bar')"
      ]
    },
    {
      "cell_type": "markdown",
      "metadata": {
        "id": "YQb5gtLr9G8T"
      },
      "source": [
        "----"
      ]
    },
    {
      "cell_type": "markdown",
      "metadata": {
        "id": "icB4ZMQu9G8T"
      },
      "source": [
        "### Q.3. How many Movies & TV Shows are in the dataset ? Show with Bar Graph."
      ]
    },
    {
      "cell_type": "markdown",
      "metadata": {
        "id": "2E01yxa29G8T"
      },
      "source": [
        "### groupby()"
      ]
    },
    {
      "cell_type": "code",
      "execution_count": null,
      "metadata": {
        "id": "oL8yTCvG9G8T",
        "outputId": "5a0d11cd-b608-4ee7-948f-6de2fd16e0e5"
      },
      "outputs": [],
      "source": [
        "data.head(2)"
      ]
    },
    {
      "cell_type": "code",
      "execution_count": null,
      "metadata": {
        "id": "bLPHYOjs9G8U",
        "outputId": "b4b6679c-cfc4-4518-f15b-7fa4875ec0a5"
      },
      "outputs": [],
      "source": [
        "data.groupby('Category').Category.count()                 # To group all unique items of a column and show their count"
      ]
    },
    {
      "cell_type": "markdown",
      "metadata": {
        "id": "vrQM29MA9G8U"
      },
      "source": [
        "### countplot()"
      ]
    },
    {
      "cell_type": "code",
      "execution_count": null,
      "metadata": {
        "id": "TUx-5l5Y9G8U",
        "outputId": "58127a29-6682-4916-a1f5-24816dbc7f12"
      },
      "outputs": [],
      "source": [
        "sns.countplot(data['Category'])        # To show the count of all unique values of any column in the form of bar graph"
      ]
    },
    {
      "cell_type": "markdown",
      "metadata": {
        "id": "UPFJn2bJ9G8U"
      },
      "source": [
        "----"
      ]
    },
    {
      "cell_type": "markdown",
      "metadata": {
        "id": "9wTaIsiO9G8U"
      },
      "source": [
        "### Q.4. Show all the Movies that were released in year 2000."
      ]
    },
    {
      "cell_type": "markdown",
      "metadata": {
        "id": "XS2ZgXSu9G8U"
      },
      "source": [
        "### Creating new column"
      ]
    },
    {
      "cell_type": "code",
      "execution_count": null,
      "metadata": {
        "id": "mVWLc2ku9G8U",
        "outputId": "7d464051-8616-4c56-d251-c5de8f37925d",
        "scrolled": true
      },
      "outputs": [],
      "source": [
        "# data.head()\n",
        "data.head(2)"
      ]
    },
    {
      "cell_type": "code",
      "execution_count": null,
      "metadata": {
        "id": "165EFeB09G8U"
      },
      "outputs": [],
      "source": [
        "# data['Year'] = data['Date_N'].dt.year           # to create new Year column ; it will consider only year\n",
        "\n",
        "data['Year'] = data['Date_N'].dt.year"
      ]
    },
    {
      "cell_type": "code",
      "execution_count": null,
      "metadata": {
        "id": "qwaktv0u9G8U",
        "outputId": "63688887-30ee-406a-c71a-9c11f1d9d41e"
      },
      "outputs": [],
      "source": [
        "# data.head(2)\n",
        "\n",
        "data.head(2)"
      ]
    },
    {
      "cell_type": "markdown",
      "metadata": {
        "id": "9JVzMnUX9G8V"
      },
      "source": [
        "### Filtering"
      ]
    },
    {
      "cell_type": "code",
      "execution_count": null,
      "metadata": {
        "id": "DXPMDLxL9G8V",
        "outputId": "db7d2861-2737-4937-829a-95189e2d9eb1"
      },
      "outputs": [],
      "source": [
        "# data[ (data['Category']=='Movie') & (data['Year']==2020) ]\n",
        "\n",
        "data[ (data['Category'] == 'Movie') & (data['Year']==2000) ]"
      ]
    },
    {
      "cell_type": "code",
      "execution_count": null,
      "metadata": {
        "id": "bkji1_fG9G8V",
        "outputId": "02775cda-3f34-48cf-8015-5e2f50363dfa"
      },
      "outputs": [],
      "source": [
        "data[ (data['Category'] == 'Movie') & (data['Year']==2020) ]"
      ]
    },
    {
      "cell_type": "markdown",
      "metadata": {
        "id": "JuvYFmMJ9G8V"
      },
      "source": [
        "----"
      ]
    },
    {
      "cell_type": "markdown",
      "metadata": {
        "id": "FrWcBvM29G8V"
      },
      "source": [
        "### Q.5. Show only the Titles of all TV Shows that were released in India only."
      ]
    },
    {
      "cell_type": "markdown",
      "metadata": {
        "id": "srB9HhlO9G8V"
      },
      "source": [
        "### Filtering"
      ]
    },
    {
      "cell_type": "code",
      "execution_count": null,
      "metadata": {
        "id": "fXDzb9_k9G8V",
        "outputId": "cfb79903-e8ec-4253-a3e5-916fba85c9ac"
      },
      "outputs": [],
      "source": [
        "# data.head(2)\n",
        "\n",
        "data.head(2)"
      ]
    },
    {
      "cell_type": "code",
      "execution_count": null,
      "metadata": {
        "id": "DrOt00c09G8V",
        "outputId": "415b6de2-0511-4ac6-9ace-1bc776559054"
      },
      "outputs": [],
      "source": [
        "# data [ (data['Category'] == 'TV Show') & (data['Country'] == 'India') ] ['Title']\n",
        "\n",
        "data[ (data['Category']=='TV Show') & (data['Country']=='India') ] ['Title']"
      ]
    },
    {
      "cell_type": "markdown",
      "metadata": {
        "id": "b_nX8CBC9G8V"
      },
      "source": [
        "----"
      ]
    },
    {
      "cell_type": "markdown",
      "metadata": {
        "id": "ElY5cyqN9G8V"
      },
      "source": [
        "### Q.6. Show Top 10 Directors, who gave the highest number of TV Shows & Movies to Netflix ?"
      ]
    },
    {
      "cell_type": "markdown",
      "metadata": {
        "id": "srmcd1kX9G8W"
      },
      "source": [
        "### value_counts()"
      ]
    },
    {
      "cell_type": "code",
      "execution_count": null,
      "metadata": {
        "id": "TOUu6GY89G8W",
        "outputId": "4bd70035-77b2-4fe2-dae2-85464e639f91"
      },
      "outputs": [],
      "source": [
        "# data['Director'].value_counts().head(10)\n",
        "\n",
        "data.head(2)"
      ]
    },
    {
      "cell_type": "code",
      "execution_count": null,
      "metadata": {
        "id": "kJRFxdMV9G8W",
        "outputId": "b69ff917-2d0a-4f85-88a2-a7a739cd3369"
      },
      "outputs": [],
      "source": [
        "data['Director'].value_counts().head(10)"
      ]
    },
    {
      "cell_type": "markdown",
      "metadata": {
        "id": "95DirT7a9G8W"
      },
      "source": [
        "----"
      ]
    },
    {
      "cell_type": "markdown",
      "metadata": {
        "id": "HaMdRUge9G8W"
      },
      "source": [
        "#### Q.7. Show all the Records, where \"Category is Movie and Type is Comedies\" or \"Country is United Kingdom\"."
      ]
    },
    {
      "cell_type": "markdown",
      "metadata": {
        "id": "Km-1z8VS9G8W"
      },
      "source": [
        "### Filtering ( And, Or Operators )"
      ]
    },
    {
      "cell_type": "code",
      "execution_count": null,
      "metadata": {
        "id": "BrCKYZXB9G8W",
        "outputId": "2675c072-1563-437f-9b18-78fbf6ee9665"
      },
      "outputs": [],
      "source": [
        "# data[(data['Category']=='Movie') & (data['Type']=='Comedies') ]\n",
        "\n",
        "data.head(2)"
      ]
    },
    {
      "cell_type": "code",
      "execution_count": null,
      "metadata": {
        "id": "BpF1qqZX9G8W",
        "outputId": "7dd163bd-123c-49d3-c499-ff86bf64b1c6"
      },
      "outputs": [],
      "source": [
        "data[ (data['Category']=='Movie') & (data['Type']=='Comedies') ]"
      ]
    },
    {
      "cell_type": "code",
      "execution_count": null,
      "metadata": {
        "id": "y5ZkTW9-9G8W",
        "outputId": "47ee79d7-b5ab-442f-b803-fc1b58262d13"
      },
      "outputs": [],
      "source": [
        "# data[(data['Category']=='Movie') & (data['Type']=='Comedies') | (data['Country']=='United Kingdom')]\n",
        "\n",
        "data[ (data['Category']=='Movie') & (data['Type']=='Comedies') | (data['Country']=='United Kingdom')]"
      ]
    },
    {
      "cell_type": "markdown",
      "metadata": {
        "id": "11VzSVsu9G8W"
      },
      "source": [
        "----"
      ]
    },
    {
      "cell_type": "markdown",
      "metadata": {
        "id": "2w4eaDmo9G8W"
      },
      "source": [
        "### Q.8. In how many movies/shows, Tom Cruise was cast ?"
      ]
    },
    {
      "cell_type": "code",
      "execution_count": null,
      "metadata": {
        "id": "6t9Qq4pL9G8X",
        "outputId": "a59935a7-a995-4490-c28e-777a64a1ad75"
      },
      "outputs": [],
      "source": [
        "# data.head()\n",
        "\n",
        "data.head(2)"
      ]
    },
    {
      "cell_type": "markdown",
      "metadata": {
        "id": "WKUcSy_Z9G8X"
      },
      "source": [
        "### filtering"
      ]
    },
    {
      "cell_type": "code",
      "execution_count": null,
      "metadata": {
        "id": "gB9AO6pp9G8X",
        "outputId": "609d74a4-4296-4c0a-ad5c-7b5d675f4964",
        "scrolled": false
      },
      "outputs": [],
      "source": [
        "# data[data['Cast']=='Tom Cruise']\n",
        "\n",
        "data[data['Cast'] == 'Tom Cruise']"
      ]
    },
    {
      "cell_type": "markdown",
      "metadata": {
        "id": "IX72FqR49G8X"
      },
      "source": [
        "### str.contains()"
      ]
    },
    {
      "cell_type": "code",
      "execution_count": null,
      "metadata": {
        "id": "K2nsYNom9G8X",
        "outputId": "9bb08a40-c9d5-41f5-9c94-f58aedbb35ca"
      },
      "outputs": [],
      "source": [
        "# data[data['Cast'].str.contains('Tom Cruise')]\n",
        "\n",
        "data[data['Cast'].str.contains('Tom Cruise')]"
      ]
    },
    {
      "cell_type": "markdown",
      "metadata": {
        "id": "IV12w6649G8X"
      },
      "source": [
        "### Creating new data-frame"
      ]
    },
    {
      "cell_type": "code",
      "execution_count": null,
      "metadata": {
        "id": "e3fZsvVc9G8X"
      },
      "outputs": [],
      "source": [
        "# data_new = data.dropna()                       # It drops the rows that contains all or any missing values.\n",
        "\n",
        "data_new = data.dropna()"
      ]
    },
    {
      "cell_type": "code",
      "execution_count": null,
      "metadata": {
        "id": "-06kXOi49G8X",
        "outputId": "e37fa964-33d9-4986-cb53-4e8b5adaa12e"
      },
      "outputs": [],
      "source": [
        "# data_new.head(2)\n",
        "\n",
        "data_new.head(2)"
      ]
    },
    {
      "cell_type": "code",
      "execution_count": null,
      "metadata": {
        "id": "ELzdrk6O9G8X",
        "outputId": "109c0d97-a5c2-4c49-cf71-4ed0649a450e",
        "scrolled": true
      },
      "outputs": [],
      "source": [
        "# data_new[data_new['Cast'].str.contains('Tom Cruise')]\n",
        "\n",
        "data_new[data_new['Cast'].str.contains('Tom Cruise')]"
      ]
    },
    {
      "cell_type": "markdown",
      "metadata": {
        "id": "R1bcp_0q9G8X"
      },
      "source": [
        "----"
      ]
    },
    {
      "cell_type": "markdown",
      "metadata": {
        "id": "1a_L9Thi9G8Y"
      },
      "source": [
        "### Q.9. What are the different Ratings defined by Netflix ?"
      ]
    },
    {
      "cell_type": "markdown",
      "metadata": {
        "id": "YOP3lnR39G8Y"
      },
      "source": [
        "### nunique()"
      ]
    },
    {
      "cell_type": "code",
      "execution_count": null,
      "metadata": {
        "id": "Or-v7fAF9G8Y",
        "outputId": "07639381-9ec4-4ca9-cef2-9f7ec0b6863d"
      },
      "outputs": [],
      "source": [
        "# data.Rating.nunique()\n",
        "\n",
        "data.head(2)"
      ]
    },
    {
      "cell_type": "code",
      "execution_count": null,
      "metadata": {
        "id": "hODGgHOg9G8Y",
        "outputId": "3385b189-3f4f-440b-e109-153bc6d6bc7b"
      },
      "outputs": [],
      "source": [
        "data['Rating'].nunique()"
      ]
    },
    {
      "cell_type": "markdown",
      "metadata": {
        "id": "wwitZkHm9G8Y"
      },
      "source": [
        "### unique()"
      ]
    },
    {
      "cell_type": "code",
      "execution_count": null,
      "metadata": {
        "id": "su-twccC9G8Y",
        "outputId": "3b47d46b-e926-42ca-b1a7-0ece5818a327"
      },
      "outputs": [],
      "source": [
        "# data.Rating.unique()\n",
        "\n",
        "data['Rating'].unique()"
      ]
    },
    {
      "cell_type": "markdown",
      "metadata": {
        "id": "kn18Dsdz9G8Y"
      },
      "source": [
        "#### Q.9.1. How many Movies got the 'TV-14' rating, in Canada ?"
      ]
    },
    {
      "cell_type": "code",
      "execution_count": null,
      "metadata": {
        "id": "Ais4MVyK9G8Y",
        "outputId": "89188c63-0424-4704-b56d-88a1a5f5abf2"
      },
      "outputs": [],
      "source": [
        "data.head(2)"
      ]
    },
    {
      "cell_type": "code",
      "execution_count": null,
      "metadata": {
        "id": "U41ALJCa9G8Z",
        "outputId": "728c60de-b590-49f7-a7a2-0e2753090e2a"
      },
      "outputs": [],
      "source": [
        "# data[(data['Category']=='Movie') & (data['Rating'] == 'TV-14')].shape\n",
        "\n",
        "data[(data['Category']=='Movie') & (data['Rating']=='TV-14')].shape"
      ]
    },
    {
      "cell_type": "code",
      "execution_count": null,
      "metadata": {
        "id": "avkhaPaI9G8Z",
        "outputId": "f7929adc-8f76-4ae1-d738-53d0d134d960"
      },
      "outputs": [],
      "source": [
        "# data[(data['Category']=='Movie') & (data['Rating'] == 'TV-14') & (data['Country']=='Canada')].shape\n",
        "\n",
        "data[(data['Category']=='Movie') & (data['Rating']=='TV-14') & (data['Country']=='Canada')].shape"
      ]
    },
    {
      "cell_type": "markdown",
      "metadata": {
        "id": "sPYMnbs79G8Z"
      },
      "source": [
        "#### Q.9.2. How many TV Show got the 'R' rating, after year 2018 ?"
      ]
    },
    {
      "cell_type": "code",
      "execution_count": null,
      "metadata": {
        "id": "31mJvsDv9G8Z",
        "outputId": "9bdd8111-68bc-4bcd-9e67-f777a5899b5e"
      },
      "outputs": [],
      "source": [
        "# data[(data['Category']=='TV Show') & (data['Rating'] == 'R')]\n",
        "\n",
        "data.head(2)"
      ]
    },
    {
      "cell_type": "code",
      "execution_count": null,
      "metadata": {
        "id": "GNicI3if9G8Z",
        "outputId": "50417e67-990d-4a9f-f2d6-f70ef5c87835"
      },
      "outputs": [],
      "source": [
        "data[(data['Category']=='TV Show') & (data['Rating']=='R')]"
      ]
    },
    {
      "cell_type": "code",
      "execution_count": null,
      "metadata": {
        "id": "N_wBiOoG9G8Z",
        "outputId": "ea8ed997-8caf-4ec3-af3d-ccaa9e902d61",
        "scrolled": true
      },
      "outputs": [],
      "source": [
        "# data[(data['Category']=='TV Show') & (data['Rating'] == 'R') & (data['Year'] > 2018)]\n",
        "\n",
        "data[(data['Category']=='TV Show') & (data['Rating']=='R') & (data['Year'] > 2018)]"
      ]
    },
    {
      "cell_type": "markdown",
      "metadata": {
        "id": "vC9wDYNc9G8Z"
      },
      "source": [
        "----"
      ]
    },
    {
      "cell_type": "markdown",
      "metadata": {
        "id": "vOyJ1A_T9G8Z"
      },
      "source": [
        "### Q.10. What is the maximum duration of a Movie/Show on Netflix ?"
      ]
    },
    {
      "cell_type": "code",
      "execution_count": null,
      "metadata": {
        "id": "i5bP66B69G8Z",
        "outputId": "e6a71e4d-3d67-4dc1-8bfa-b3d054f1112c"
      },
      "outputs": [],
      "source": [
        "# data.head(2)\n",
        "\n",
        "data.head(2)"
      ]
    },
    {
      "cell_type": "code",
      "execution_count": null,
      "metadata": {
        "id": "CrU2q-579G8Z",
        "outputId": "3cdcd2b2-4666-43a4-e680-1dccd653aeb5"
      },
      "outputs": [],
      "source": [
        "# data['Duration'].unique()\n",
        "\n",
        "data.Duration.unique()"
      ]
    },
    {
      "cell_type": "code",
      "execution_count": null,
      "metadata": {
        "id": "Nz-43bmP9G8Z",
        "outputId": "b7c2cda1-833f-48a6-affc-1f0d10c03332"
      },
      "outputs": [],
      "source": [
        "# data.Duration.dtypes\n",
        "\n",
        "data.Duration.dtypes"
      ]
    },
    {
      "cell_type": "markdown",
      "metadata": {
        "id": "xxuopYls9G8Z"
      },
      "source": [
        "### str.split()"
      ]
    },
    {
      "cell_type": "code",
      "execution_count": null,
      "metadata": {
        "id": "h1t38Vwa9G8a",
        "outputId": "93e6ef99-127a-44c0-a772-ac34ccda65dd"
      },
      "outputs": [],
      "source": [
        "data.head(2)"
      ]
    },
    {
      "cell_type": "code",
      "execution_count": null,
      "metadata": {
        "id": "NBRTlCmX9G8a"
      },
      "outputs": [],
      "source": [
        "# data[['Minutes','Unit']] = data['Duration'].str.split(' ', expand=True)\n",
        "\n",
        "data[['Minutes', 'Unit']] = data['Duration'].str.split(' ', expand = True)"
      ]
    },
    {
      "cell_type": "code",
      "execution_count": null,
      "metadata": {
        "id": "5D4EzcQ89G8a",
        "outputId": "c5bb0373-a59b-4d32-ea71-d9700e2bbfe4"
      },
      "outputs": [],
      "source": [
        "# data.head(2)\n",
        "\n",
        "data.head(2)"
      ]
    },
    {
      "cell_type": "markdown",
      "metadata": {
        "id": "ABzU9M6Z9G8a"
      },
      "source": [
        "### max()"
      ]
    },
    {
      "cell_type": "code",
      "execution_count": null,
      "metadata": {
        "id": "fQe10QR19G8a",
        "outputId": "4f1889de-e93e-4714-a2e6-1856a26b9873"
      },
      "outputs": [],
      "source": [
        "# data.Minutes.max()\n",
        "\n",
        "data['Minutes'].max()"
      ]
    },
    {
      "cell_type": "code",
      "execution_count": null,
      "metadata": {
        "id": "JgXRP1t49G8a",
        "outputId": "86c6d3e3-789c-4593-dc47-499d3327e3fe"
      },
      "outputs": [],
      "source": [
        "data['Minutes'].min()"
      ]
    },
    {
      "cell_type": "code",
      "execution_count": null,
      "metadata": {
        "id": "NBDqf1Ir9G8a",
        "outputId": "ced0584e-9c27-442e-a64c-53c5f2375cb5",
        "scrolled": true
      },
      "outputs": [],
      "source": [
        "data['Minutes'].mean()"
      ]
    },
    {
      "cell_type": "code",
      "execution_count": null,
      "metadata": {
        "id": "zGFRcruj9G8a",
        "outputId": "c2db5d86-582f-4ada-f2fe-5d59c47c9a37"
      },
      "outputs": [],
      "source": [
        "data.dtypes"
      ]
    },
    {
      "cell_type": "markdown",
      "metadata": {
        "id": "g6ZIcBbm9G8a"
      },
      "source": [
        "----"
      ]
    },
    {
      "cell_type": "markdown",
      "metadata": {
        "id": "nTjOer8V9G8a"
      },
      "source": [
        "### Q.11. Which individual country has the Highest No. of TV Shows ?"
      ]
    },
    {
      "cell_type": "code",
      "execution_count": null,
      "metadata": {
        "id": "Op1Gg5T19G8b",
        "outputId": "baf5e84e-d63a-456d-8f2b-d2dbd4b09cc8"
      },
      "outputs": [],
      "source": [
        "# data.head(2)\n",
        "\n",
        "data.head(2)"
      ]
    },
    {
      "cell_type": "code",
      "execution_count": null,
      "metadata": {
        "id": "AZcP_rTq9G8b"
      },
      "outputs": [],
      "source": [
        "# data_tvshow = data[data['Category'] == 'TV Show']\n",
        "\n",
        "data_tvshow = data[data['Category'] == 'TV Show']"
      ]
    },
    {
      "cell_type": "code",
      "execution_count": null,
      "metadata": {
        "id": "yEHbj8gT9G8b",
        "outputId": "6547dcc7-c8fa-45e7-b471-e9d5ffb70671"
      },
      "outputs": [],
      "source": [
        "# data_tvshow.head(2)\n",
        "\n",
        "data_tvshow.head(2)"
      ]
    },
    {
      "cell_type": "code",
      "execution_count": null,
      "metadata": {
        "id": "FoMyP78O9G8b",
        "outputId": "38067ee6-eb9a-486b-e537-7e39678007a7"
      },
      "outputs": [],
      "source": [
        "# data_tvshow.Country.value_counts()\n",
        "\n",
        "data_tvshow.Country.value_counts()"
      ]
    },
    {
      "cell_type": "code",
      "execution_count": null,
      "metadata": {
        "id": "Xdoanc1g9G8b",
        "outputId": "dbd4acb6-6ec2-42f4-bf8a-043436338ef5"
      },
      "outputs": [],
      "source": [
        "# data_tvshow.Country.value_counts().head(1)\n",
        "\n",
        "data_tvshow.Country.value_counts().head(1)"
      ]
    },
    {
      "cell_type": "markdown",
      "metadata": {
        "id": "u3NdOP8k9G8b"
      },
      "source": [
        "----"
      ]
    },
    {
      "cell_type": "markdown",
      "metadata": {
        "id": "adr2CLC99G8b"
      },
      "source": [
        "### Q.12. How can we sort the dataset by Year ?"
      ]
    },
    {
      "cell_type": "code",
      "execution_count": null,
      "metadata": {
        "id": "fd5e5NA-9G8b",
        "outputId": "0188eedb-e4c9-4697-dc8a-683525c4f5b9"
      },
      "outputs": [],
      "source": [
        "# data.head(2)\n",
        "\n",
        "data.head(2)"
      ]
    },
    {
      "cell_type": "code",
      "execution_count": null,
      "metadata": {
        "id": "Z90H4FFh9G8b",
        "outputId": "0feb867e-0f6e-422e-d7b7-1ab10b0a23de"
      },
      "outputs": [],
      "source": [
        "# data.sort_values(by='Year').head(2)\n",
        "\n",
        "data.sort_values(by = 'Year')"
      ]
    },
    {
      "cell_type": "code",
      "execution_count": null,
      "metadata": {
        "id": "hF88PfkT9G8b",
        "outputId": "acc5300c-6538-4167-ff86-f1c4489fe0be"
      },
      "outputs": [],
      "source": [
        "# data.sort_values(by='Year', ascending=False).head(2)\n",
        "\n",
        "data.sort_values(by = 'Year', ascending = False).head(10)"
      ]
    },
    {
      "cell_type": "markdown",
      "metadata": {
        "id": "1Cpvm7279G8c"
      },
      "source": [
        "----"
      ]
    },
    {
      "cell_type": "markdown",
      "metadata": {
        "id": "uH2nNZx69G8c"
      },
      "source": [
        "### Q.13. Find all the instances where :"
      ]
    },
    {
      "cell_type": "markdown",
      "metadata": {
        "id": "BShDwSsW9G8c"
      },
      "source": [
        "### Category is 'Movie' and Type is 'Dramas'"
      ]
    },
    {
      "cell_type": "markdown",
      "metadata": {
        "id": "q1i21K-99G8c"
      },
      "source": [
        "### or"
      ]
    },
    {
      "cell_type": "markdown",
      "metadata": {
        "id": "0cqt2Vh89G8c"
      },
      "source": [
        "###  Category is 'TV Show' & Type is 'Kids' TV'"
      ]
    },
    {
      "cell_type": "code",
      "execution_count": null,
      "metadata": {
        "id": "H7AqWsYy9G8c",
        "outputId": "1d522ea3-da6e-4a5d-d74c-3e9f6e757df5"
      },
      "outputs": [],
      "source": [
        "data.head(2)"
      ]
    },
    {
      "cell_type": "code",
      "execution_count": null,
      "metadata": {
        "id": "AaVBph4v9G8c",
        "outputId": "176e8b24-5ac7-4819-de7a-123ebbf34b89"
      },
      "outputs": [],
      "source": [
        "# data [(data['Category']=='Movie') & (data['Type']=='Dramas')].head(2)\n",
        "\n",
        "data [ (data['Category']=='Movie') & (data['Type']=='Dramas') ].head(2)"
      ]
    },
    {
      "cell_type": "code",
      "execution_count": null,
      "metadata": {
        "id": "Cw-6PB719G8c",
        "outputId": "526eb52c-c83a-4529-9329-62a03ac1ff05"
      },
      "outputs": [],
      "source": [
        "# data[(data['Category']=='TV Show') & (data['Type']==\"Kids' TV\")].head(2)\n",
        "\n",
        "data [ (data['Category']=='TV Show') & (data['Type']== \"Kids' TV\") ]"
      ]
    },
    {
      "cell_type": "code",
      "execution_count": null,
      "metadata": {
        "id": "1rfY7-HX9G8c",
        "outputId": "4f495b09-7c72-439a-8d18-35b514adf6b4"
      },
      "outputs": [],
      "source": [
        "# data [(data['Category']=='Movie') & (data['Type']=='Dramas') | (data['Category']=='TV Show') & (data['Type']==\"Kids' TV\")].head(1)\n",
        "\n",
        "data [ (data['Category']=='Movie') & (data['Type']=='Dramas') | (data['Category']=='TV Show') & (data['Type']== \"Kids' TV\") ]"
      ]
    },
    {
      "cell_type": "markdown",
      "metadata": {
        "id": "ZYXfWfmC9G8c"
      },
      "source": [
        "----"
      ]
    },
    {
      "cell_type": "markdown",
      "metadata": {
        "id": "uaIbMep19G8c"
      },
      "source": [
        "----"
      ]
    },
    {
      "cell_type": "markdown",
      "metadata": {
        "id": "U8exygAA9G8d"
      },
      "source": [
        "----"
      ]
    },
    {
      "cell_type": "markdown",
      "metadata": {
        "id": "ih6O20PI9G8d"
      },
      "source": [
        "----- ***** -----"
      ]
    },
    {
      "cell_type": "markdown",
      "metadata": {
        "id": "eb94Cs0b9G8d"
      },
      "source": [
        "By-\n",
        "Rohit Grewal (Data Analyst)"
      ]
    }
  ],
  "metadata": {
    "colab": {
      "provenance": []
    },
    "kernelspec": {
      "display_name": "Python 3",
      "language": "python",
      "name": "python3"
    },
    "language_info": {
      "codemirror_mode": {
        "name": "ipython",
        "version": 3
      },
      "file_extension": ".py",
      "mimetype": "text/x-python",
      "name": "python",
      "nbconvert_exporter": "python",
      "pygments_lexer": "ipython3",
      "version": "3.8.3"
    }
  },
  "nbformat": 4,
  "nbformat_minor": 0
}
